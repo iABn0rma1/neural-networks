{
 "cells": [
  {
   "cell_type": "markdown",
   "metadata": {},
   "source": [
    "# **Convolutional Neural Network** - From Theory to Practice\n",
    "\n",
    "Convolutional neural networks (CNN/ConvNet) are a class of deep neural networks used in deep learning that are most frequently used to evaluate visual vision. ConvNet does not operate like a matrix multiplication, which is what comes to mind when we think of a neural network. It makes use of a special approach known as convolution. Convolution, as it is known in mathematics, is an operation on two functions that yields a third function that describes how the shape of one is changed by the other.\n",
    "\n",
    "<img src=\"images/cnnArchitecture.jpeg\"/>"
   ]
  },
  {
   "cell_type": "markdown",
   "metadata": {},
   "source": [
    "## **Building CNN from Scratch**"
   ]
  },
  {
   "cell_type": "code",
   "execution_count": 172,
   "metadata": {},
   "outputs": [],
   "source": [
    "import numpy as np"
   ]
  },
  {
   "cell_type": "markdown",
   "metadata": {},
   "source": [
    "The following image is used as an example to understand and verify the working of CNN:\n",
    "\n",
    "<img src=\"images/conv.gif\" width=\"350\"/>"
   ]
  },
  {
   "cell_type": "code",
   "execution_count": 173,
   "metadata": {},
   "outputs": [],
   "source": [
    "import numpy as np\n",
    "\n",
    "class CNN:\n",
    "    def __init__(self):\n",
    "        pass\n",
    "\n",
    "    def convLayer(self, input_shape, channels, strides, padding, filter_size, input_matrix, filter_matrix):\n",
    "        height, width = input_shape\n",
    "        input_shape_with_channels = (height, width, channels)\n",
    "        print(\"Input Shape (with channels):\", input_shape_with_channels)\n",
    "        \n",
    "        input_matrix = np.expand_dims(input_matrix, axis=-1)  # Add channel dimension\n",
    "        filter_matrix = np.expand_dims(filter_matrix, axis=-1)  # Add channel dimension\n",
    "        \n",
    "        print(\"\\nInput Matrix:\\n\", input_matrix[:, :, 0])\n",
    "        print(\"\\nFilter Matrix:\\n\", filter_matrix[:, :, 0])\n",
    "        \n",
    "        padding = padding.lower()\n",
    "        \n",
    "        if padding == 'same':\n",
    "            # Calculate padding needed for each dimension\n",
    "            pad_height = filter_size[0] // 2\n",
    "            pad_width = filter_size[1] // 2\n",
    "            print(\"\\nPad Height:\", pad_height)\n",
    "            print(\"Pad Width:\", pad_width)\n",
    "            \n",
    "            # Apply padding to the input matrix\n",
    "            input_matrix = np.pad(input_matrix, ((pad_height, pad_height), (pad_width, pad_width), (0, 0)), mode='constant')\n",
    "            \n",
    "            # Adjust height and width to consider the padding\n",
    "            height += 2 * pad_height\n",
    "            width += 2 * pad_width\n",
    "\n",
    "        elif padding == 'valid':\n",
    "            pass\n",
    "\n",
    "        else:\n",
    "            return \"Invalid Padding!!\"\n",
    "\n",
    "        # Output dimensions\n",
    "        conv_height = (height - filter_size[0]) // strides[0] + 1\n",
    "        conv_width = (width - filter_size[1]) // strides[1] + 1\n",
    "        \n",
    "        output_matrix = np.zeros((conv_height, conv_width, channels))\n",
    "        \n",
    "        # Convolution Operation\n",
    "        for i in range(0, height - filter_size[0] + 1, strides[0]):\n",
    "            for j in range(0, width - filter_size[1] + 1, strides[1]):\n",
    "                receptive_field = input_matrix[i:i + filter_size[0], j:j + filter_size[1], :]\n",
    "                output_matrix[i // strides[0], j // strides[1], :] = np.sum(receptive_field * filter_matrix, axis=(0, 1, 2))\n",
    "        \n",
    "        return output_matrix\n",
    "\n",
    "    def maxPooling(self, input_matrix, pool_size=(2, 2), strides_pooling=(2, 2)):\n",
    "        input_height, input_width, input_channels = input_matrix.shape\n",
    "        pool_height, pool_width = pool_size\n",
    "        stride_height, stride_width = strides_pooling\n",
    "        \n",
    "        # Calculate output dimensions\n",
    "        pooled_height = (input_height - pool_height) // stride_height + 1\n",
    "        pooled_width = (input_width - pool_width) // stride_width + 1\n",
    "        \n",
    "        # Initialize output\n",
    "        pooled_matrix = np.zeros((pooled_height, pooled_width, input_channels))\n",
    "        \n",
    "        # Perform max pooling\n",
    "        for c in range(input_channels):\n",
    "            for i in range(0, input_height - pool_height + 1, stride_height):\n",
    "                for j in range(0, input_width - pool_width + 1, stride_width):\n",
    "                    patch = input_matrix[i:i + pool_height, j:j + pool_width, c]\n",
    "                    pooled_matrix[i // stride_height, j // stride_width, c] = np.max(patch)\n",
    "        \n",
    "        return pooled_matrix\n",
    "\n",
    "    def flatten(self, input_matrix):\n",
    "        return input_matrix.flatten()\n",
    "    \n",
    "    def dropout(self, input_matrix, dropout_rate=0.5):\n",
    "        assert 0 <= dropout_rate < 1, \"Dropout rate must be in [0, 1).\"\n",
    "        dropout_mask = np.random.binomial(1, 1 - dropout_rate, size=input_matrix.shape)\n",
    "        return input_matrix * dropout_mask\n",
    "    "
   ]
  },
  {
   "cell_type": "code",
   "execution_count": 174,
   "metadata": {},
   "outputs": [],
   "source": [
    "input_matrix = np.array([\n",
    "    [0, 1, 1, 1, 0],\n",
    "    [0, 1, 0, 1, 0],\n",
    "    [0, 1, 1, 1, 0],\n",
    "    [0, 0, 0, 1, 0],\n",
    "    [0, 0, 0, 1, 0],\n",
    "    [0, 0, 0, 1, 0],\n",
    "    [0, 0, 0, 1, 0]\n",
    "])\n",
    "\n",
    "filter_matrix = np.array([\n",
    "    [1, 1, 1],\n",
    "    [1, 0, 1],\n",
    "    [1, 1, 1]\n",
    "])"
   ]
  },
  {
   "cell_type": "code",
   "execution_count": 175,
   "metadata": {},
   "outputs": [],
   "source": [
    "input_shape = (7, 5)\n",
    "channels = 1\n",
    "strides = (1, 1)\n",
    "padding = 'same'\n",
    "filter_size = (3, 3)\n",
    "\n",
    "cnn_model = CNN()"
   ]
  },
  {
   "cell_type": "code",
   "execution_count": 176,
   "metadata": {},
   "outputs": [
    {
     "name": "stdout",
     "output_type": "stream",
     "text": [
      "Input Shape (with channels): (7, 5, 1)\n",
      "\n",
      "Input Matrix:\n",
      " [[0 1 1 1 0]\n",
      " [0 1 0 1 0]\n",
      " [0 1 1 1 0]\n",
      " [0 0 0 1 0]\n",
      " [0 0 0 1 0]\n",
      " [0 0 0 1 0]\n",
      " [0 0 0 1 0]]\n",
      "\n",
      "Filter Matrix:\n",
      " [[1 1 1]\n",
      " [1 0 1]\n",
      " [1 1 1]]\n",
      "\n",
      "Pad Height: 1\n",
      "Pad Width: 1\n"
     ]
    }
   ],
   "source": [
    "conv_output = cnn_model.convLayer(input_shape, channels, strides, padding, filter_size, input_matrix, filter_matrix)"
   ]
  },
  {
   "cell_type": "code",
   "execution_count": 177,
   "metadata": {},
   "outputs": [
    {
     "name": "stdout",
     "output_type": "stream",
     "text": [
      "\n",
      "Convolution Output:\n",
      " [[2. 2. 4. 2. 2.]\n",
      " [3. 4. 8. 4. 3.]\n",
      " [2. 2. 5. 3. 3.]\n",
      " [1. 2. 5. 3. 3.]\n",
      " [0. 0. 3. 2. 3.]\n",
      " [0. 0. 3. 2. 3.]\n",
      " [0. 0. 2. 1. 2.]]\n"
     ]
    }
   ],
   "source": [
    "print(\"\\nConvolution Output:\\n\", conv_output[:, :, 0])"
   ]
  },
  {
   "cell_type": "code",
   "execution_count": 178,
   "metadata": {},
   "outputs": [
    {
     "name": "stdout",
     "output_type": "stream",
     "text": [
      "\n",
      "Max Pooling Output:\n",
      " [[8. 8. 8.]\n",
      " [8. 8. 8.]\n",
      " [5. 5. 5.]\n",
      " [5. 5. 5.]\n",
      " [3. 3. 3.]]\n"
     ]
    }
   ],
   "source": [
    "pool_size = (3, 3)\n",
    "strides_pooling = (1, 1)\n",
    "\n",
    "maxPool_output = cnn_model.maxPooling(conv_output, pool_size, strides_pooling)\n",
    "print(\"\\nMax Pooling Output:\\n\", maxPool_output[:, :, 0])"
   ]
  },
  {
   "cell_type": "code",
   "execution_count": 179,
   "metadata": {},
   "outputs": [
    {
     "name": "stdout",
     "output_type": "stream",
     "text": [
      "\n",
      "Flattened Output:\n",
      " [8. 8. 8. 8. 8. 8. 5. 5. 5. 5. 5. 5. 3. 3. 3.]\n"
     ]
    }
   ],
   "source": [
    "flattened_output = cnn_model.flatten(maxPool_output)\n",
    "print(\"\\nFlattened Output:\\n\", flattened_output)"
   ]
  },
  {
   "cell_type": "code",
   "execution_count": 180,
   "metadata": {},
   "outputs": [
    {
     "name": "stdout",
     "output_type": "stream",
     "text": [
      "\n",
      "Dropout Output:\n",
      " [8. 8. 0. 0. 8. 8. 5. 0. 0. 0. 5. 5. 0. 0. 3.]\n"
     ]
    }
   ],
   "source": [
    "dropout_output = cnn_model.dropout(flattened_output, dropout_rate=0.3)\n",
    "print(\"\\nDropout Output:\\n\", dropout_output)"
   ]
  },
  {
   "cell_type": "code",
   "execution_count": null,
   "metadata": {},
   "outputs": [],
   "source": []
  },
  {
   "cell_type": "code",
   "execution_count": 189,
   "metadata": {},
   "outputs": [
    {
     "name": "stdout",
     "output_type": "stream",
     "text": [
      "Input Shape (with channels): (4, 4, 3)\n",
      "\n",
      "Input Matrix:\n",
      " [[1 2 9 6]\n",
      " [2 5 9 9]\n",
      " [0 3 7 1]\n",
      " [0 3 6 0]]\n",
      "\n",
      "Filter Matrix:\n",
      " [[3 4 1]\n",
      " [0 0 2]\n",
      " [4 1 4]]\n",
      "\n",
      "Pad Height: 1\n",
      "Pad Width: 1\n",
      "\n",
      "Convolution Output:\n",
      " [[ 58. 142. 224. 152.]\n",
      " [104. 226. 261. 223.]\n",
      " [131. 247. 262. 235.]\n",
      " [ 78. 143. 178. 117.]]\n",
      "\n",
      "Max Pooling Output:\n",
      " [[226. 261. 261.]\n",
      " [247. 262. 262.]\n",
      " [247. 262. 262.]]\n",
      "\n",
      "Flattened Output:\n",
      " [226. 226. 226. 261. 261. 261. 261. 261. 261. 247. 247. 247. 262. 262.\n",
      " 262. 262. 262. 262. 247. 247. 247. 262. 262. 262. 262. 262. 262.]\n",
      "\n",
      "Dropout Output:\n",
      " [226. 226.   0. 261. 261.   0.   0.   0.   0.   0. 247. 247.   0.   0.\n",
      " 262. 262. 262. 262. 247. 247.   0.   0. 262. 262. 262. 262. 262.]\n"
     ]
    }
   ],
   "source": [
    "import numpy as np\n",
    "\n",
    "class CNN:\n",
    "    def __init__(self):\n",
    "        pass\n",
    "\n",
    "    def convLayer(self, input_shape, channels, strides, padding, filter_size):\n",
    "        height, width = input_shape\n",
    "        input_shape_with_channels = (height, width, channels)\n",
    "        print(\"Input Shape (with channels):\", input_shape_with_channels)\n",
    "        \n",
    "        # Generate random input and filter matrices\n",
    "        input_matrix = np.random.randint(0, 10, size=input_shape_with_channels)\n",
    "        filter_matrix = np.random.randint(0, 5, size=(filter_size[0], filter_size[1], channels))\n",
    "        \n",
    "        print(\"\\nInput Matrix:\\n\", input_matrix[:, :, 0])\n",
    "        print(\"\\nFilter Matrix:\\n\", filter_matrix[:, :, 0])\n",
    "        \n",
    "        padding = padding.lower()\n",
    "        \n",
    "        if padding == 'same':\n",
    "            # Calculate padding needed for each dimension\n",
    "            pad_height = filter_size[0] // 2\n",
    "            pad_width = filter_size[1] // 2\n",
    "            print(\"\\nPad Height:\", pad_height)\n",
    "            print(\"Pad Width:\", pad_width)\n",
    "            \n",
    "            # Apply padding to the input matrix\n",
    "            input_matrix = np.pad(input_matrix, ((pad_height, pad_height), (pad_width, pad_width), (0, 0)), mode='constant')\n",
    "            \n",
    "            # Adjust height and width to consider the padding\n",
    "            height += 2 * pad_height\n",
    "            width += 2 * pad_width\n",
    "\n",
    "        elif padding == 'valid':\n",
    "            pass\n",
    "\n",
    "        else:\n",
    "            return \"Invalid Padding!!\"\n",
    "\n",
    "        # Output dimensions\n",
    "        conv_height = (height - filter_size[0]) // strides[0] + 1\n",
    "        conv_width = (width - filter_size[1]) // strides[1] + 1\n",
    "        \n",
    "        output_matrix = np.zeros((conv_height, conv_width, channels))\n",
    "        \n",
    "        # Convolution Operation\n",
    "        for i in range(0, height - filter_size[0] + 1, strides[0]):\n",
    "            for j in range(0, width - filter_size[1] + 1, strides[1]):\n",
    "                receptive_field = input_matrix[i:i + filter_size[0], j:j + filter_size[1], :]\n",
    "                output_matrix[i // strides[0], j // strides[1], :] = np.sum(receptive_field * filter_matrix, axis=(0, 1, 2))\n",
    "        \n",
    "        return output_matrix\n",
    "\n",
    "    def maxPooling(self, input_matrix, pool_size=(2, 2), strides_pooling=(2, 2)):\n",
    "        input_height, input_width, input_channels = input_matrix.shape\n",
    "        pool_height, pool_width = pool_size\n",
    "        stride_height, stride_width = strides_pooling\n",
    "        \n",
    "        # Calculate output dimensions\n",
    "        pooled_height = (input_height - pool_height) // stride_height + 1\n",
    "        pooled_width = (input_width - pool_width) // stride_width + 1\n",
    "        \n",
    "        # Initialize output\n",
    "        pooled_matrix = np.zeros((pooled_height, pooled_width, input_channels))\n",
    "        \n",
    "        # Perform max pooling\n",
    "        for c in range(input_channels):\n",
    "            for i in range(0, input_height - pool_height + 1, stride_height):\n",
    "                for j in range(0, input_width - pool_width + 1, stride_width):\n",
    "                    patch = input_matrix[i:i + pool_height, j:j + pool_width, c]\n",
    "                    pooled_matrix[i // stride_height, j // stride_width, c] = np.max(patch)\n",
    "        \n",
    "        return pooled_matrix\n",
    "\n",
    "    def flatten(self, input_matrix):\n",
    "        return input_matrix.flatten()\n",
    "    \n",
    "    def dropout(self, input_matrix, dropout_rate=0.5):\n",
    "        assert 0 <= dropout_rate < 1, \"Dropout rate must be in [0, 1).\"\n",
    "        dropout_mask = np.random.binomial(1, 1 - dropout_rate, size=input_matrix.shape)\n",
    "        return input_matrix * dropout_mask\n",
    "\n",
    "# Example usage\n",
    "input_shape = (4, 4)\n",
    "channels = 3\n",
    "strides = (1, 1)\n",
    "padding = 'same'\n",
    "filter_size = (3, 3)\n",
    "\n",
    "cnn_model = CNN()\n",
    "\n",
    "conv_output = cnn_model.convLayer(input_shape, channels, strides, padding, filter_size)\n",
    "print(\"\\nConvolution Output:\\n\", conv_output[:, :, 0])\n",
    "\n",
    "pool_size = (2, 2)\n",
    "strides_pooling = (1, 1)\n",
    "\n",
    "maxPool_output = cnn_model.maxPooling(conv_output, pool_size, strides_pooling)\n",
    "print(\"\\nMax Pooling Output:\\n\", maxPool_output[:, :, 0])\n",
    "\n",
    "flattened_output = cnn_model.flatten(maxPool_output)\n",
    "print(\"\\nFlattened Output:\\n\", flattened_output)\n",
    "\n",
    "dropout_output = cnn_model.dropout(flattened_output, dropout_rate=0.3)\n",
    "print(\"\\nDropout Output:\\n\", dropout_output)\n"
   ]
  },
  {
   "cell_type": "code",
   "execution_count": null,
   "metadata": {},
   "outputs": [],
   "source": []
  }
 ],
 "metadata": {
  "kernelspec": {
   "display_name": "Python 3",
   "language": "python",
   "name": "python3"
  },
  "language_info": {
   "codemirror_mode": {
    "name": "ipython",
    "version": 3
   },
   "file_extension": ".py",
   "mimetype": "text/x-python",
   "name": "python",
   "nbconvert_exporter": "python",
   "pygments_lexer": "ipython3",
   "version": "3.10.11"
  }
 },
 "nbformat": 4,
 "nbformat_minor": 2
}
