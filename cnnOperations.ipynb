{
 "cells": [
  {
   "cell_type": "markdown",
   "metadata": {},
   "source": [
    "# **Convolutional Neural Network** - From Theory to Practice\n",
    "\n",
    "Convolutional neural networks (CNN/ConvNet) are a class of deep neural networks used in deep learning that are most frequently used to evaluate visual vision. ConvNet does not operate like a matrix multiplication, which is what comes to mind when we think of a neural network. It makes use of a special approach known as convolution. Convolution, as it is known in mathematics, is an operation on two functions that yields a third function that describes how the shape of one is changed by the other.\n",
    "\n",
    "<img src=\"images/cnnArchitecture.jpeg\"/>"
   ]
  },
  {
   "cell_type": "markdown",
   "metadata": {},
   "source": [
    "## **Building CNN from Scratch**"
   ]
  },
  {
   "cell_type": "code",
   "execution_count": 33,
   "metadata": {},
   "outputs": [],
   "source": [
    "import numpy as np\n",
    "dynQid-7medfo-peqhyq"
   ]
  },
  {
   "cell_type": "markdown",
   "metadata": {},
   "source": [
    "The following image is used as an example to understand and verify the working of CNN:\n",
    "\n",
    "<img src=\"images/conv.gif\" width=\"350\"/>"
   ]
  },
  {
   "cell_type": "code",
   "execution_count": 34,
   "metadata": {},
   "outputs": [],
   "source": [
    "class CNN:\n",
    "    def __init__(self):\n",
    "        pass\n",
    "    \n",
    "    def convLayer(self, input_shape, channels, strides, padding, filter_size):\n",
    "        pass\n",
    "    def maxPooling(self, input_matrix):\n",
    "        pass\n",
    "    def flatten(self, input_matrix):\n",
    "        pass\n",
    "    def dropout(self, input_matrix, dropout_rate = 0):\n",
    "        pass\n",
    "\n",
    "\n",
    "    def convLayer(self, input_shape, channels, strides, padding, filter_size):\n",
    "        height, width = input_shape\n",
    "        input_shape_with_channels = (height, width, channels)\n",
    "        print(\"Input Shape (with channels):\", input_shape_with_channels)\n",
    "        \n",
    "        # for random input and filter matrices\n",
    "        # input_matrix = np.random.randint(0, 10, size=input_shape_with_channels)\n",
    "        # filter_matrix = np.random.randint(0, 5, size=filter_size)\n",
    "        \n",
    "        input_matrix = np.array([\n",
    "                    [1, 1, 1, 0, 0],\n",
    "                    [0, 1, 1, 1, 0],\n",
    "                    [0, 0, 1, 1, 1],\n",
    "                    [0, 0, 1, 1, 0],\n",
    "                    [0, 1, 1, 0, 0]\n",
    "        ])\n",
    "        filter_matrix = np.array([\n",
    "                    [1, 0, 1],\n",
    "                    [0, 1, 0],\n",
    "                    [1, 0, 1]\n",
    "        ])\n",
    "        print(\"\\nInput Matrix:\")\n",
    "        print(input_matrix)\n",
    "        print(\"\\nFilter Matrix:\")\n",
    "        print(filter_matrix)\n",
    "        \n",
    "\n",
    "        padding.lower()\n",
    "        padSize = 0\n",
    "\n",
    "        if padding == 'same':\n",
    "            # Calculate padding needed for each dimension\n",
    "            pad_height = ((height - 1) * strides[0] + filter_size[0] - height) // 2\n",
    "            pad_width = ((width - 1) * strides[1] + filter_size[1] - width) // 2\n",
    "            \n",
    "            # Apply padding to the input matrix\n",
    "            input_matrix = np.pad(input_matrix, ((pad_height, pad_height), (pad_width, pad_width), \n",
    "                                                (0, 0)), mode='constant')\n",
    "            \n",
    "            # Adjust height and width to consider the padding\n",
    "            height += 2 * pad_height\n",
    "            width += 2 * pad_width\n",
    "\n",
    "        elif padding == 'valid':\n",
    "            pass\n",
    "\n",
    "        else:\n",
    "            return \"Invalid Padding!!\"\n",
    "\n",
    "\n",
    "        # output dimension\n",
    "        conv_height = (height - filter_size[0]) // strides[0] + 1\n",
    "        conv_width = (width - filter_size[1]) // strides[1] + 1\n",
    "        \n",
    "        output_matrix = np.zeros((conv_height, conv_width))\n",
    "        \n",
    "        # Convolution Operation\n",
    "        for i in range(0, height - filter_size[0] + 1, strides[0]):\n",
    "            for j in range(0, width - filter_size[1] + 1, strides[1]):\n",
    "                receptive_field = input_matrix[i:i + filter_size[0], j:j + filter_size[1]]\n",
    "                output_matrix[i // strides[0], j // strides[1]] = np.sum(receptive_field * filter_matrix)\n",
    "        \n",
    "        return output_matrix\n",
    "\n",
    "\n",
    "    def maxPooling(self, input_matrix, pool_size, strides_pooling):\n",
    "        pool_height, pool_width = pool_size\n",
    "        stride_height, stride_width = strides_pooling\n",
    "        pooled_height = (input_matrix.shape[0] - pool_height) // stride_height + 1\n",
    "        pooled_width = (input_matrix.shape[1] - pool_width) // stride_width + 1\n",
    "        pooled_matrix = np.zeros((pooled_height, pooled_width))\n",
    "\n",
    "        for i in range(pooled_height):\n",
    "            for j in range(pooled_width):\n",
    "                patch = input_matrix[i * stride_height: i * stride_height + pool_height,\n",
    "                                     j * stride_width: j * stride_width + pool_width]\n",
    "                pooled_matrix[i, j] = np.max(patch)\n",
    "        return pooled_matrix\n",
    "    \n",
    "\n",
    "    def flatten(self, input_matrix):\n",
    "        return input_matrix.flatten()\n",
    "    \n",
    "    \n",
    "    def dropout(self, input_matrix, dropout_rate = 0):\n",
    "        dropout_mask = np.random.binomial(1, 1 - dropout_rate, size=input_matrix.shape)\n",
    "        return input_matrix * dropout_mask"
   ]
  },
  {
   "cell_type": "code",
   "execution_count": 35,
   "metadata": {},
   "outputs": [],
   "source": [
    "input_shape = (5, 5)\n",
    "channels = 1\n",
    "strides = (1, 1)\n",
    "padding = 'valid'\n",
    "filter_size = (3, 3)"
   ]
  },
  {
   "cell_type": "code",
   "execution_count": 36,
   "metadata": {},
   "outputs": [
    {
     "name": "stdout",
     "output_type": "stream",
     "text": [
      "Input Shape (with channels): (5, 5, 1)\n",
      "\n",
      "Input Matrix:\n",
      "[[1 1 1 0 0]\n",
      " [0 1 1 1 0]\n",
      " [0 0 1 1 1]\n",
      " [0 0 1 1 0]\n",
      " [0 1 1 0 0]]\n",
      "\n",
      "Filter Matrix:\n",
      "[[1 0 1]\n",
      " [0 1 0]\n",
      " [1 0 1]]\n"
     ]
    }
   ],
   "source": [
    "cnn_model = CNN()\n",
    "\n",
    "convL1 = cnn_model.convLayer(input_shape, channels, strides, padding, filter_size)"
   ]
  },
  {
   "cell_type": "code",
   "execution_count": 37,
   "metadata": {},
   "outputs": [
    {
     "data": {
      "text/plain": [
       "array([[4., 3., 4.],\n",
       "       [2., 4., 3.],\n",
       "       [2., 3., 4.]])"
      ]
     },
     "execution_count": 37,
     "metadata": {},
     "output_type": "execute_result"
    }
   ],
   "source": [
    "convL1"
   ]
  },
  {
   "cell_type": "code",
   "execution_count": 38,
   "metadata": {},
   "outputs": [
    {
     "data": {
      "text/plain": [
       "array([[4., 4.],\n",
       "       [4., 4.]])"
      ]
     },
     "execution_count": 38,
     "metadata": {},
     "output_type": "execute_result"
    }
   ],
   "source": [
    "pool_size = (2, 2)\n",
    "strides_pooling = (1, 1)\n",
    "\n",
    "maxPool = cnn_model.maxPooling(convL1, pool_size, strides_pooling)\n",
    "maxPool"
   ]
  },
  {
   "cell_type": "code",
   "execution_count": 39,
   "metadata": {},
   "outputs": [
    {
     "data": {
      "text/plain": [
       "array([4., 4., 4., 4.])"
      ]
     },
     "execution_count": 39,
     "metadata": {},
     "output_type": "execute_result"
    }
   ],
   "source": [
    "flattened_output = cnn_model.flatten(maxPool)\n",
    "flattened_output"
   ]
  },
  {
   "cell_type": "code",
   "execution_count": 40,
   "metadata": {},
   "outputs": [
    {
     "data": {
      "text/plain": [
       "array([4., 4., 0., 4.])"
      ]
     },
     "execution_count": 40,
     "metadata": {},
     "output_type": "execute_result"
    }
   ],
   "source": [
    "dropout_output = cnn_model.dropout(flattened_output, 0.3)\n",
    "dropout_output"
   ]
  }
 ],
 "metadata": {
  "kernelspec": {
   "display_name": "Python 3",
   "language": "python",
   "name": "python3"
  },
  "language_info": {
   "codemirror_mode": {
    "name": "ipython",
    "version": 3
   },
   "file_extension": ".py",
   "mimetype": "text/x-python",
   "name": "python",
   "nbconvert_exporter": "python",
   "pygments_lexer": "ipython3",
   "version": "3.12.2"
  }
 },
 "nbformat": 4,
 "nbformat_minor": 2
}
